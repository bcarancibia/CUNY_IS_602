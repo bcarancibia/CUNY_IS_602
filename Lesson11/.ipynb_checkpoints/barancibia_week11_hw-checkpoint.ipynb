{
 "metadata": {
  "name": "",
  "signature": "sha256:364027b09f94b9331ace6a4cf6598ff49911fee5430fed120df59dc0dc28a566"
 },
 "nbformat": 3,
 "nbformat_minor": 0,
 "worksheets": [
  {
   "cells": [
    {
     "cell_type": "heading",
     "level": 1,
     "metadata": {},
     "source": [
      "Homework Week 11"
     ]
    },
    {
     "cell_type": "markdown",
     "metadata": {},
     "source": [
      "Ben Arancibia\n",
      "December 2nd, 2014\n",
      "IS 602"
     ]
    },
    {
     "cell_type": "code",
     "collapsed": false,
     "input": [
      "#Import\n",
      "import pandas as pd\n",
      "import random\n",
      "import matplotlib.pyplot as plt\n",
      "%pylab inline"
     ],
     "language": "python",
     "metadata": {},
     "outputs": [
      {
       "output_type": "stream",
       "stream": "stdout",
       "text": [
        "Populating the interactive namespace from numpy and matplotlib\n"
       ]
      },
      {
       "output_type": "stream",
       "stream": "stderr",
       "text": [
        "WARNING: pylab import has clobbered these variables: ['random']\n",
        "`%matplotlib` prevents importing * from pylab and numpy\n"
       ]
      }
     ],
     "prompt_number": 1
    },
    {
     "cell_type": "markdown",
     "metadata": {},
     "source": [
      "Perform a Monte Carlo simulation to calculate Value at Risk (VaR) for the Apple stock price. VaR is A statistical technique used to measure and quantify the level of financial risk within a firm or investment portfolio over a specific time frame. Value at risk is used by risk managers in order to measure and control the level of risk which the firm undertakes. The risk manager's job is to ensure that risks are not taken beyond the level at which the firm can absorb the losses of a probable worst outcome."
     ]
    },
    {
     "cell_type": "heading",
     "level": 3,
     "metadata": {},
     "source": [
      "Import the Data"
     ]
    },
    {
     "cell_type": "code",
     "collapsed": false,
     "input": [
      "headers = ['date', 'price', 'percent_change']\n",
      "df = pd.read_csv('/users/bcarancibia/CUNY_IS_602/Lesson11/apple.2011.csv', sep=',', names=headers, header=0)\n",
      "df = df.replace('XXXXX', value=0)\n",
      "df['percent_change'] = df['percent_change'].astype(float)"
     ],
     "language": "python",
     "metadata": {},
     "outputs": [],
     "prompt_number": 2
    },
    {
     "cell_type": "heading",
     "level": 3,
     "metadata": {},
     "source": [
      "Necessary Calculations"
     ]
    },
    {
     "cell_type": "markdown",
     "metadata": {},
     "source": [
      "Mean of Percentage Change and Standard Deviation of the mean of percentage change."
     ]
    },
    {
     "cell_type": "code",
     "collapsed": false,
     "input": [
      "mean_percent = np.mean(df['percent_change'])\n",
      "sd_percent_change = np.std(df['percent_change'])\n",
      "print 'The mean of the  percent_change: %f' % mean_percent \n",
      "print 'The standard deviation of the percent_change: %f' % sd_percent_change"
     ],
     "language": "python",
     "metadata": {},
     "outputs": [
      {
       "output_type": "stream",
       "stream": "stdout",
       "text": [
        "The mean of the  percent_change: 0.000954\n",
        "The standard deviation of the percent_change: 0.016455\n"
       ]
      }
     ],
     "prompt_number": 3
    },
    {
     "cell_type": "heading",
     "level": 3,
     "metadata": {},
     "source": [
      "Monte Carlo Simulation"
     ]
    },
    {
     "cell_type": "code",
     "collapsed": false,
     "input": [
      "def stock(mu, sigma):\n",
      "    values = np.random.normal(mu, sigma, 20)\n",
      "    price = df.iloc[-1]['price']\n",
      "    for val in values:\n",
      "        price += price*val\n",
      "    return price"
     ],
     "language": "python",
     "metadata": {},
     "outputs": [],
     "prompt_number": 4
    },
    {
     "cell_type": "markdown",
     "metadata": {},
     "source": [
      "The above function runs a simulation for 20 days as specified in the assignment. It returns expected price based on Gaussian random numbers. Now run the Monte Carlo simulation."
     ]
    },
    {
     "cell_type": "code",
     "collapsed": false,
     "input": [
      "sim_vals = []\n",
      "for i in range(0,10000):\n",
      "    value = stock(mean_percent, sd_percent_change)\n",
      "    sim_vals.append(value)\n",
      "count, bins, ignored = hist(sim_vals, 30)\n",
      "title('Apple Stock Price')\n",
      "xlabel('Expected Stock Price in USD')\n",
      "ylabel('Count Frequency')"
     ],
     "language": "python",
     "metadata": {},
     "outputs": [
      {
       "metadata": {},
       "output_type": "pyout",
       "prompt_number": 5,
       "text": [
        "<matplotlib.text.Text at 0x10f42fc90>"
       ]
      },
      {
       "metadata": {},
       "output_type": "display_data",
       "png": "[encoded data removed]",
       "text": [
        "<matplotlib.figure.Figure at 0x10f348a50>"
       ]
      }
     ],
     "prompt_number": 5
    },
    {
     "cell_type": "heading",
     "level": 3,
     "metadata": {},
     "source": [
      "Value at Risk (VAR)"
     ]
    },
    {
     "cell_type": "markdown",
     "metadata": {},
     "source": [
      "Look for the bottomm 1% lowest percentile of the perdicted values calculated using Gaussian Random Numbers. Can perform the calculation we will be using NumPy's function."
     ]
    },
    {
     "cell_type": "code",
     "collapsed": false,
     "input": [
      "var_val = np.percentile(sim_vals, 1)\n",
      "print var_val"
     ],
     "language": "python",
     "metadata": {},
     "outputs": [
      {
       "output_type": "stream",
       "stream": "stdout",
       "text": [
        "348.533862905\n"
       ]
      }
     ],
     "prompt_number": 6
    },
    {
     "cell_type": "markdown",
     "metadata": {},
     "source": [
      "The Value at Risk with 99 percent confidence level is 347.014697672"
     ]
    },
    {
     "cell_type": "code",
     "collapsed": false,
     "input": [],
     "language": "python",
     "metadata": {},
     "outputs": []
    }
   ],
   "metadata": {}
  }
 ]
}