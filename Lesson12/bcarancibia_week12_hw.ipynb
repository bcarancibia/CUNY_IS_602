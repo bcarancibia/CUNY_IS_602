{
 "metadata": {
  "name": "",
  "signature": "sha256:54287f89b5c156eca1afcc18ff288fccf6dcefbbae7f333d42bf8187b7905f76"
 },
 "nbformat": 3,
 "nbformat_minor": 0,
 "worksheets": [
  {
   "cells": [
    {
     "cell_type": "heading",
     "level": 1,
     "metadata": {},
     "source": [
      "Week 12 Homework"
     ]
    },
    {
     "cell_type": "markdown",
     "metadata": {},
     "source": [
      "Ben Arancibia"
     ]
    },
    {
     "cell_type": "markdown",
     "metadata": {},
     "source": [
      "Take your solution from Homework 11 and complete the Monte Carlo step (step 6) in parallel. Compare the timing for your solution in homework 11 and this parallel solution. "
     ]
    },
    {
     "cell_type": "code",
     "collapsed": false,
     "input": [
      "import pandas as pd\n",
      "import numpy as np\n",
      "from IPython import parallel\n",
      "import matplotlib.pyplot as plt\n",
      "import timeit"
     ],
     "language": "python",
     "metadata": {},
     "outputs": [],
     "prompt_number": 1
    },
    {
     "cell_type": "code",
     "collapsed": false,
     "input": [
      "apple = pd.read_csv('/users/bcarancibia/CUNY_IS_602/Lesson11/apple.2011.csv', parse_dates=[0], na_values='XXXXX')\n",
      "apple.columns = [apple.columns[0], apple.columns[1], 'PctChange']"
     ],
     "language": "python",
     "metadata": {},
     "outputs": [],
     "prompt_number": 2
    },
    {
     "cell_type": "code",
     "collapsed": false,
     "input": [
      "mu = apple.PctChange.mean()  # mean of pct change sample\n",
      "sigma = apple.PctChange.std()  # std dev of pct change sample"
     ],
     "language": "python",
     "metadata": {},
     "outputs": [],
     "prompt_number": 4
    },
    {
     "cell_type": "code",
     "collapsed": false,
     "input": [
      "lastVal = apple.Last.values[-1]  # last observed price in sample"
     ],
     "language": "python",
     "metadata": {},
     "outputs": [],
     "prompt_number": 5
    },
    {
     "cell_type": "code",
     "collapsed": false,
     "input": [
      "def gen_day20_vals(lastVal, n, mu, sigma):\n",
      "    import random as r\n",
      "    # helper function to calculate day 20 price\n",
      "    def gen_new_obs(start_val, pct_ch):\n",
      "        out = start_val\n",
      "        for pct in pct_ch:\n",
      "            out *= 1 + pct\n",
      "        return out\n",
      "    \n",
      "    Day20Val = ()\n",
      "    for i in xrange(n):\n",
      "        new20pct = [r.gauss(mu, sigma) for days in xrange(20)]\n",
      "        Day20Val += (gen_new_obs(lastVal, new20pct),)\n",
      "    return Day20Val\n",
      "\n",
      "def gen_day20_parallel(lastVal, n, mu, sigma):\n",
      "    # setup parallel clients\n",
      "    # must run following console command before code below: $ ipcluster start -n 4\n",
      "    clients = parallel.Client()\n",
      "    clients.block = True  # wait for all clients to finish before starting new tasks\n",
      "\n",
      "    dview = clients.direct_view()\n",
      "    \n",
      "    all_results = dview.apply(gen_day20_vals, lastVal, 2500, mu, sigma)\n",
      "\n",
      "    # Gather results into a single tuple\n",
      "    return all_results[0] + all_results[1] + all_results[2] + all_results[3]"
     ],
     "language": "python",
     "metadata": {},
     "outputs": [],
     "prompt_number": 6
    },
    {
     "cell_type": "code",
     "collapsed": false,
     "input": [
      "plt.hist(all_results, bins=100, normed=1)\n",
      "plt.show()"
     ],
     "language": "python",
     "metadata": {},
     "outputs": [],
     "prompt_number": 0
    },
    {
     "cell_type": "code",
     "collapsed": false,
     "input": [
      "print('The Value at Risk is %.2f with 99%% confidence.'\n",
      "      % np.percentile(all_results, 1))"
     ],
     "language": "python",
     "metadata": {},
     "outputs": [],
     "prompt_number": 0
    },
    {
     "cell_type": "code",
     "collapsed": false,
     "input": [
      "%timeit gen_day20_vals(lastVal, 10000, mu, sigma)"
     ],
     "language": "python",
     "metadata": {},
     "outputs": [
      {
       "output_type": "stream",
       "stream": "stdout",
       "text": [
        "1 loops, best of 3: 788 ms per loop\n"
       ]
      }
     ],
     "prompt_number": 22
    },
    {
     "cell_type": "code",
     "collapsed": false,
     "input": [
      "%timeit gen_day20_parallel(lastVal, 2500, mu, sigma)"
     ],
     "language": "python",
     "metadata": {},
     "outputs": [],
     "prompt_number": 0
    },
    {
     "cell_type": "code",
     "collapsed": false,
     "input": [],
     "language": "python",
     "metadata": {},
     "outputs": []
    }
   ],
   "metadata": {}
  }
 ]
}